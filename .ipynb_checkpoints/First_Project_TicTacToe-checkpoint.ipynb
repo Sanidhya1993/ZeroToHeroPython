{
 "cells": [
  {
   "cell_type": "code",
   "execution_count": 1,
   "metadata": {},
   "outputs": [],
   "source": [
    "from IPython.display import clear_output\n",
    "\n",
    "def display_func(my_list1,my_list2,my_list3):\n",
    "    clear_output()\n",
    "    print(\"  Col 0  Col 1  Col 2\")\n",
    "    print(\"         |   |   \")\n",
    "    print(\"ROW 2  \"+my_list1[0]+\" | \"+my_list1[1]+\" | \"+my_list1[2]+\" \")\n",
    "    print(\"         |   |   \")\n",
    "    print(\"      ---|---|---\")\n",
    "    print(\"         |   |   \")\n",
    "    print(\"ROW 1  \"+my_list2[0]+\" | \"+my_list2[1]+\" | \"+my_list2[2]+\" \")\n",
    "    print(\"         |   |   \")\n",
    "    print(\"      ---|---|---\")\n",
    "    print(\"         |   |   \")\n",
    "    print(\"ROW 0  \"+my_list3[0]+\" | \"+my_list3[1]+\" | \"+my_list3[2]+\" \")\n",
    "    print(\"         |   |   \")"
   ]
  },
  {
   "cell_type": "code",
   "execution_count": 2,
   "metadata": {},
   "outputs": [],
   "source": [
    "def player_input(player):\n",
    "    print(player + \" : Please enter the row and column in which you want to place your marker\")\n",
    "    row = 3\n",
    "    column = 3\n",
    "    while row not in [0,1,2] and column not in[0,1,2]:\n",
    "        row = int(input(\"Enter a row number 0-2\"))\n",
    "        column = int(input(\"Enter a column number 0-2\"))\n",
    "        \n",
    "        if row not in [0,1,2] and column not in [0,1,2]:\n",
    "            print(\"Wrong choice please enter a row 0-2 and column 0-2\")\n",
    "            \n",
    "    return row,column"
   ]
  },
  {
   "cell_type": "code",
   "execution_count": 3,
   "metadata": {},
   "outputs": [],
   "source": [
    "def player1(marker,row,col,my_list1,my_list2,my_list3):\n",
    "    \n",
    "    if row == 0:\n",
    "        if col ==0:\n",
    "            my_list3[0]=marker\n",
    "        elif col ==1:\n",
    "            my_list3[1]=marker\n",
    "        else:\n",
    "            my_list3[2]=marker\n",
    "    elif row ==1:\n",
    "        if col ==0:\n",
    "            my_list2[0]=marker\n",
    "        elif col ==1:\n",
    "            my_list2[1]=marker\n",
    "        else:\n",
    "            my_list2[2]=marker\n",
    "    else:\n",
    "        if col ==0:\n",
    "            my_list1[0]=marker\n",
    "        elif col ==1:\n",
    "            my_list1[1]=marker\n",
    "        else:\n",
    "            my_list1[2]=marker\n",
    "    \n",
    "    return my_list1,my_list2,my_list3"
   ]
  },
  {
   "cell_type": "code",
   "execution_count": 4,
   "metadata": {},
   "outputs": [],
   "source": [
    "def player2(marker,row,col,my_list1,my_list2,my_list3):\n",
    "    \n",
    "    if row == 0:\n",
    "        if col ==0:\n",
    "            my_list3[0]=marker\n",
    "        elif col ==1:\n",
    "            my_list3[1]=marker\n",
    "        else:\n",
    "            my_list3[2]=marker\n",
    "    elif row ==1:\n",
    "        if col ==0:\n",
    "            my_list2[0]=marker\n",
    "        elif col ==1:\n",
    "            my_list2[1]=marker\n",
    "        else:\n",
    "            my_list2[2]=marker\n",
    "    else:\n",
    "        if col ==0:\n",
    "            my_list1[0]=marker\n",
    "        elif col ==1:\n",
    "            my_list1[1]=marker\n",
    "        else:\n",
    "            my_list1[2]=marker\n",
    "    \n",
    "    return my_list1,my_list2,my_list3"
   ]
  },
  {
   "cell_type": "code",
   "execution_count": 5,
   "metadata": {},
   "outputs": [],
   "source": [
    "def result(my_list1,my_list2,my_list3):\n",
    "    if (my_list1[0]==my_list1[1]==my_list1[2]=='X')or(my_list2[0]==my_list2[1]==my_list2[2]=='X')or(my_list3[0]==my_list3[1]==my_list3[2]=='X')or(my_list1[0]==my_list2[0]==my_list3[0]=='X')or(my_list1[1]==my_list2[1]==my_list3[1]=='X')or(my_list1[2]==my_list2[2]==my_list3[2]=='X')or(my_list1[0]==my_list2[1]==my_list3[2]=='X')or(my_list1[2]==my_list2[1]==my_list3[0]=='X') or (my_list1[0]==my_list1[1]==my_list1[2]=='O')or(my_list2[0]==my_list2[1]==my_list2[2]=='O')or(my_list3[0]==my_list3[1]==my_list3[2]=='O')or(my_list1[0]==my_list2[0]==my_list3[0]=='O')or(my_list1[1]==my_list2[1]==my_list3[1]=='O')or(my_list1[2]==my_list2[2]==my_list3[2]=='O')or(my_list1[0]==my_list2[1]==my_list3[2]=='O')or(my_list1[2]==my_list2[1]==my_list3[0]=='O'):\n",
    "        game_won = True\n",
    "    else:\n",
    "        game_won = False\n",
    "    \n",
    "    return game_won"
   ]
  },
  {
   "cell_type": "code",
   "execution_count": 6,
   "metadata": {},
   "outputs": [],
   "source": [
    "#display_func([' ',' ',' '],[' ',' ',' '],[' ',' ',' '])"
   ]
  },
  {
   "cell_type": "code",
   "execution_count": null,
   "metadata": {},
   "outputs": [
    {
     "name": "stdout",
     "output_type": "stream",
     "text": [
      "  Col 0  Col 1  Col 2\n",
      "         |   |   \n",
      "ROW 2    |   | O \n",
      "         |   |   \n",
      "      ---|---|---\n",
      "         |   |   \n",
      "ROW 1    | O |   \n",
      "         |   |   \n",
      "      ---|---|---\n",
      "         |   |   \n",
      "ROW 0  X |   | X \n",
      "         |   |   \n",
      "Player 1 : Please enter the row and column in which you want to place your marker\n"
     ]
    }
   ],
   "source": [
    "l1 = [' ',' ',' ']\n",
    "l2 = [' ',' ',' ']\n",
    "l3 = [' ',' ',' ']\n",
    "\n",
    "p1_marker=''\n",
    "p2_marker=''\n",
    "counter = 0\n",
    "p1_gamewon = False\n",
    "p2_gamewon = False\n",
    "\n",
    "print(\"Welcome to the Tic Tac Toe Game:\")\n",
    "print(\"Player 1 please choose the marker X or O:\")\n",
    "\n",
    "p1_marker = input(\"X or 0\")\n",
    "\n",
    "if p1_marker == 'X':\n",
    "    p2_marker = 'O'\n",
    "else:\n",
    "    p2_marker ='X'\n",
    "    \n",
    "display_func(l1,l2,l3)\n",
    "\n",
    "while counter<9 and p1_gamewon == False and p2_gamewon == False:\n",
    "    r,c = player_input(\"Player 1\")\n",
    "    l1,l2,l3 = player1(p1_marker,r,c,l1,l2,l3)\n",
    "    counter = counter + 1\n",
    "    display_func(l1,l2,l3)\n",
    "    p1_gamewon = result(l1,l2,l3)\n",
    "    if p1_gamewon or counter>=9:\n",
    "        break\n",
    "    r,c = player_input(\"Player 2\")\n",
    "    l1,l2,l3 = player2(p2_marker,r,c,l1,l2,l3)\n",
    "    counter = counter + 1\n",
    "    display_func(l1,l2,l3)\n",
    "    p2_gamewon = result(l1,l2,l3)\n",
    "    if p2_gamewon or counter >= 9:\n",
    "        break\n",
    "\n",
    "\n",
    "if p1_gamewon:\n",
    "    print(\"Congrats Player 1.....\")\n",
    "elif p2_gamewon:\n",
    "    print(\"Congrats Player 2.....\")\n",
    "else:\n",
    "    print(\"Game Draw....\")\n"
   ]
  },
  {
   "cell_type": "code",
   "execution_count": null,
   "metadata": {},
   "outputs": [],
   "source": []
  },
  {
   "cell_type": "code",
   "execution_count": null,
   "metadata": {},
   "outputs": [],
   "source": []
  }
 ],
 "metadata": {
  "kernelspec": {
   "display_name": "Python 3 (ipykernel)",
   "language": "python",
   "name": "python3"
  },
  "language_info": {
   "codemirror_mode": {
    "name": "ipython",
    "version": 3
   },
   "file_extension": ".py",
   "mimetype": "text/x-python",
   "name": "python",
   "nbconvert_exporter": "python",
   "pygments_lexer": "ipython3",
   "version": "3.9.12"
  }
 },
 "nbformat": 4,
 "nbformat_minor": 2
}
